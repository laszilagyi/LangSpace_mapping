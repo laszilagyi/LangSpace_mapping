{
 "cells": [
  {
   "cell_type": "code",
   "execution_count": 2,
   "id": "c11a0aec",
   "metadata": {},
   "outputs": [
    {
     "name": "stdout",
     "output_type": "stream",
     "text": [
      "Jupyter environment detected. Enabling Open3D WebVisualizer.\n",
      "[Open3D INFO] WebRTC GUI backend enabled.\n",
      "[Open3D INFO] WebRTCWindowSystem: HTTP handshake server disabled.\n"
     ]
    }
   ],
   "source": [
    "\n",
    "import open3d as o3d\n",
    "import numpy as np\n",
    "\n",
    "from langspace2_core import *\n",
    "from langspace2_ransac_icp import *\n",
    "from langspace2_predator import *\n",
    "from langspace2_eval import *\n",
    "\n",
    "pcd_path = \"/home/laszlo/Stanford/concept-graphs_data/Replica/room0_mesh.ply\"\n",
    "instance_labels_path = \"/home/laszlo/Stanford/opennerf/datasets/replica_gt_instances/instance_labels_room0.txt\"\n",
    "\n",
    "gt_objects, gt_instance_ids = load_gt_objects(pcd_path, instance_labels_path)\n"
   ]
  },
  {
   "cell_type": "code",
   "execution_count": 4,
   "id": "df4ba945",
   "metadata": {},
   "outputs": [],
   "source": [
    "# room 2\n",
    "\n",
    "pcd_path = \"/home/laszlo/Stanford/concept-graphs_data/Replica/room2_mesh.ply\"\n",
    "instance_labels_path = \"/home/laszlo/Stanford/opennerf/datasets/replica_gt_instances/instance_labels_room2.txt\"\n",
    "\n",
    "gt_objects, gt_instance_ids = load_gt_objects(pcd_path, instance_labels_path)\n",
    "\n",
    "o3d.visualization.draw_geometries(gt_objects)"
   ]
  },
  {
   "cell_type": "code",
   "execution_count": null,
   "id": "eb581eb4",
   "metadata": {},
   "outputs": [],
   "source": [
    "# room 2\n",
    "\n",
    "subset_indices = [9, 10, 11, 12, 13, 14, 15, 16, 17, 18, 19, 20,\n",
    "                   21, 22, 23, 27, 28, 33, 34, 35, 36, 37, 39, 40, \n",
    "                   41, 42, 43, 44]\n",
    "\n",
    "ref_gt_indices = [16, 17, 18, 19, 20, 21, 22, 23, 37, 39, 40, 41]\n",
    "reference_indices = [ 18, 37, 39, 40, 41]\n",
    "reference_labels = ['chair', 'shelf', 'table', 'bowl', 'vase']\n",
    "\n",
    "gt_subset = [gt_objects[i] for i in ref_gt_indices]\n",
    "#gt_subset = [gt_objects[i] for i in reference_indices]\n",
    "\n",
    "o3d.visualization.draw_geometries(gt_subset)\n",
    "\n",
    "\n"
   ]
  },
  {
   "cell_type": "code",
   "execution_count": 44,
   "id": "fbf78441",
   "metadata": {},
   "outputs": [
    {
     "name": "stdout",
     "output_type": "stream",
     "text": [
      "94\n"
     ]
    }
   ],
   "source": [
    "\n",
    "# office 0\n",
    "\n",
    "pcd_path = \"/home/laszlo/Stanford/concept-graphs_data/Replica/office2_mesh.ply\"\n",
    "instance_labels_path = \"/home/laszlo/Stanford/opennerf/datasets/replica_gt_instances/instance_labels_office2.txt\"\n",
    "\n",
    "gt_objects, gt_instance_ids = load_gt_objects(pcd_path, instance_labels_path)\n",
    "\n",
    "o3d.visualization.draw_geometries(gt_objects)\n",
    "\n",
    "print(len(gt_objects))\n",
    "\n"
   ]
  },
  {
   "cell_type": "code",
   "execution_count": null,
   "id": "8ab67794",
   "metadata": {},
   "outputs": [],
   "source": [
    "# office 2\n",
    "\n",
    "subset = [38, 45, 46, 50, 51, 52, 53, 54, 56, 57, 58, 59, 60,  74, 75, 76, 77, 78, 79, 80]\n",
    "\n",
    "maybe = [44,47, 48, 49, 55, 71,  73, 81, 82,  ]"
   ]
  },
  {
   "cell_type": "code",
   "execution_count": 21,
   "id": "d16b5446",
   "metadata": {},
   "outputs": [
    {
     "ename": "KeyboardInterrupt",
     "evalue": "",
     "output_type": "error",
     "traceback": [
      "\u001b[0;31m---------------------------------------------------------------------------\u001b[0m",
      "\u001b[0;31mKeyboardInterrupt\u001b[0m                         Traceback (most recent call last)",
      "Cell \u001b[0;32mIn[21], line 5\u001b[0m\n\u001b[1;32m      1\u001b[0m \u001b[38;5;66;03m# visualize gt_objects[i] one by one with the i index in the window title:\u001b[39;00m\n\u001b[1;32m      3\u001b[0m \u001b[38;5;28;01mfor\u001b[39;00m i, obj \u001b[38;5;129;01min\u001b[39;00m \u001b[38;5;28menumerate\u001b[39m(gt_objects):\n\u001b[0;32m----> 5\u001b[0m     \u001b[43mo3d\u001b[49m\u001b[38;5;241;43m.\u001b[39;49m\u001b[43mvisualization\u001b[49m\u001b[38;5;241;43m.\u001b[39;49m\u001b[43mdraw_geometries\u001b[49m\u001b[43m(\u001b[49m\u001b[43m[\u001b[49m\u001b[43mobj\u001b[49m\u001b[43m]\u001b[49m\u001b[43m,\u001b[49m\u001b[43m \u001b[49m\u001b[43mwindow_name\u001b[49m\u001b[38;5;241;43m=\u001b[39;49m\u001b[38;5;124;43mf\u001b[39;49m\u001b[38;5;124;43m\"\u001b[39;49m\u001b[38;5;124;43mObject \u001b[39;49m\u001b[38;5;132;43;01m{\u001b[39;49;00m\u001b[43mi\u001b[49m\u001b[38;5;132;43;01m}\u001b[39;49;00m\u001b[38;5;124;43m\"\u001b[39;49m\u001b[43m)\u001b[49m\n\u001b[1;32m     10\u001b[0m \u001b[38;5;66;03m# visualize the whole scene with \"all objects\" in the window title\u001b[39;00m\n\u001b[1;32m     11\u001b[0m \u001b[38;5;66;03m#o3d.visualization.draw_geometries(gt_objects, window_name=\"All Objects\")\u001b[39;00m\n\u001b[1;32m     12\u001b[0m \n\u001b[1;32m     13\u001b[0m \u001b[38;5;66;03m#o3d.visualization.draw_geometries(gt_objects)\u001b[39;00m\n",
      "\u001b[0;31mKeyboardInterrupt\u001b[0m: "
     ]
    }
   ],
   "source": [
    "\n",
    "# visualize gt_objects[i] one by one with the i index in the window title:\n",
    "\n",
    "for i, obj in enumerate(gt_objects):\n",
    "\n",
    "    o3d.visualization.draw_geometries([obj], window_name=f\"Object {i}\")\n",
    "\n",
    "\n",
    "\n",
    "\n",
    "# visualize the whole scene with \"all objects\" in the window title\n",
    "#o3d.visualization.draw_geometries(gt_objects, window_name=\"All Objects\")\n",
    "\n",
    "#o3d.visualization.draw_geometries(gt_objects)\n",
    "\n"
   ]
  },
  {
   "cell_type": "code",
   "execution_count": null,
   "id": "6da131d9",
   "metadata": {},
   "outputs": [
    {
     "name": "stdout",
     "output_type": "stream",
     "text": [
      "Jupyter environment detected. Enabling Open3D WebVisualizer.\n",
      "[Open3D INFO] WebRTC GUI backend enabled.\n",
      "[Open3D INFO] WebRTCWindowSystem: HTTP handshake server disabled.\n"
     ]
    }
   ],
   "source": [
    "import open3d as o3d\n",
    "import numpy as np\n",
    "\n",
    "from langspace2_core import *\n",
    "from langspace2_ransac_icp import *\n",
    "from langspace2_predator import *\n",
    "from langspace2_eval import *\n",
    "from langspace2_data import *\n",
    "\n",
    "path = \"/home/laszlo/Stanford/concept-graphs_data/Replica/room0/exps/r_mapping_stride11/pcd_r_mapping_stride11.pkl.gz\"\n",
    "cg_objects, cg_clip_fts = load_conceptgraphs_objects(path)\n",
    "\n",
    "pcd_path = \"/home/laszlo/Stanford/concept-graphs_data/Replica/room0_mesh.ply\"\n",
    "instance_labels_path = \"/home/laszlo/Stanford/opennerf/datasets/replica_gt_instances/instance_labels_room0.txt\"\n",
    "\n",
    "gt_objects, gt_instance_ids = load_gt_objects(pcd_path, instance_labels_path)\n",
    "\n",
    "\n",
    "import gzip\n",
    "import pickle\n",
    "import open3d as o3d\n",
    "#from your_module import MapObjectList  # adjust if it's defined in a notebook or script\n",
    "\n",
    "from conceptgraph.slam.slam_classes import MapEdgeMapping, MapObjectList\n",
    "\n",
    "with gzip.open(\"/home/laszlo/Stanford/concept-graphs_data/Replica/room0/exps/r_mapping_stride11/pcd_r_mapping_stride11.pkl.gz\", \"rb\") as f:\n",
    "    serialized_data = pickle.load(f)\n",
    "\n",
    "objects = MapObjectList()\n",
    "objects.load_serializable(serialized_data['objects'])\n",
    "\n",
    "\n",
    "\n",
    "import torch\n",
    "import open_clip\n",
    "\n",
    "# 1. Load the model & tokenizer\n",
    "clip_model, _, clip_preprocess = open_clip.create_model_and_transforms(\n",
    "    \"ViT-H-14\", \"laion2b_s32b_b79k\"\n",
    ")\n",
    "clip_model = clip_model.to(\"cuda\").eval()    # eval mode\n",
    "\n",
    "clip_tokenizer = open_clip.get_tokenizer(\"ViT-H-14\")\n"
   ]
  },
  {
   "cell_type": "code",
   "execution_count": 2,
   "id": "f11bd04a",
   "metadata": {},
   "outputs": [],
   "source": [
    "# room0\n",
    "\n",
    "pcd_path = \"/home/laszlo/Stanford/concept-graphs_data/Replica/room0_mesh.ply\"\n",
    "instance_labels_path = \"/home/laszlo/Stanford/opennerf/datasets/replica_gt_instances/instance_labels_room0.txt\"\n",
    "\n",
    "gt_objects, gt_instance_ids = load_gt_objects(pcd_path, instance_labels_path)\n",
    "\n",
    "subset_indices = [3, 10, 14, 15, 24, 25, 29, 30, 31, 32, 33, 34, \n",
    "                  35, 36, 37, 38, 39, 40, 41, 42, 43, 47, 48, 53, 57, 58, 59,\n",
    "                  60, 61, 62, 63, 64, 66, 67, 68, 69, 70, 71]\n",
    "\n",
    "ref_gt_indices = [33, 34, 60, 61, 62, 63, 64, 68]\n",
    "ref_object_indices = [33, 60, 61, 64, 68]\n",
    "ref_labels = ['armchair', 'bowl', 'sofa', 'stool', 'coffee table']\n",
    "\n",
    "ref_gt_subset = [gt_objects[i] for i in ref_gt_indices]\n",
    "\n",
    "gt_subset = [gt_objects[i] for i in subset_indices]\n",
    "\n",
    "o3d.visualization.draw_geometries(ref_gt_subset)\n",
    "\n",
    "reference_objects = []\n",
    "reference_labels = []"
   ]
  },
  {
   "cell_type": "code",
   "execution_count": 3,
   "id": "0c84cb33",
   "metadata": {},
   "outputs": [],
   "source": [
    "from langspace2_eval import *\n",
    "\n",
    "cg_subset = filter_overlapping_objects(gt_subset, cg_objects, distance_threshold=0.1, overlap_threshold=0.2)\n",
    "\n",
    "ref_cg_subset = filter_overlapping_objects(ref_gt_subset, cg_objects, distance_threshold=0.1, overlap_threshold=0.2)\n",
    "\n",
    "o3d.visualization.draw_geometries(ref_cg_subset)\n"
   ]
  },
  {
   "cell_type": "code",
   "execution_count": 43,
   "id": "8860c6eb",
   "metadata": {},
   "outputs": [],
   "source": [
    "\n",
    "\n",
    "#eval = eval_segmentation(gt_subset, cg_subset, distance_threshold=0.05)\n",
    "\n",
    "ref_eval = eval_segmentation(ref_gt_subset, ref_cg_subset, distance_threshold=0.1)\n",
    "\n",
    "\n"
   ]
  },
  {
   "cell_type": "code",
   "execution_count": 41,
   "id": "137e49ec",
   "metadata": {},
   "outputs": [
    {
     "name": "stdout",
     "output_type": "stream",
     "text": [
      "[-1, -1, 30, -1, -1, 3, -1, -1, 7, 5, 24, 19, -1, -1, 28, 13, 10, 21, 15, 8, 23, 22, 2, 25, -1, -1, -1, 17, 16, 11, 1, 0, 4, -1, 29, -1, 31, 9]\n",
      "Indices with non-negative associations: [2, 5, 8, 9, 10, 11, 14, 15, 16, 17, 18, 19, 20, 21, 22, 23, 27, 28, 29, 30, 31, 32, 34, 36, 37]\n",
      "Indices with no associations: [0, 1, 3, 4, 6, 7, 12, 13, 24, 25, 26, 33, 35]\n"
     ]
    }
   ],
   "source": [
    "len(eval['gt_cg_association'])\n",
    "\n",
    "print(eval['gt_cg_association'])\n",
    "\n",
    "# Larger than zero indices in eval['gt_cg_association']:\n",
    "\n",
    "segmented_gt_indices = [i for i, val in enumerate(eval['gt_cg_association']) if val != -1]\n",
    "print(\"Indices with non-negative associations:\", segmented_gt_indices)\n",
    "\n",
    "unsegmented_gt_indices = [i for i, val in enumerate(eval['gt_cg_association']) if val == -1]\n",
    "print(\"Indices with no associations:\", unsegmented_gt_indices)\n",
    "\n",
    "\n",
    "\n",
    "segmented_gt_objects = [gt_subset[i] for i in segmented_gt_indices]\n",
    "\n",
    "segmented_cg_indices = [eval['gt_cg_association'][i] for i in segmented_gt_indices]\n",
    "\n",
    "segmented_cg_objects = [cg_subset[i] for i in segmented_cg_indices]\n",
    "\n",
    "\n",
    "o3d.visualization.draw_geometries(segmented_cg_objects)\n",
    "\n"
   ]
  },
  {
   "cell_type": "code",
   "execution_count": 55,
   "id": "301fd9b9",
   "metadata": {},
   "outputs": [
    {
     "name": "stdout",
     "output_type": "stream",
     "text": [
      "0.33534186976569264\n",
      "[[], [], [], [], [], [], [], [], [(6, 1000)], [], [], [], [], [], [(27, 433)], [], [], [(20, 383)], [(14, 541)], [], [], [(18, 227)], [(12, 305)], [(32, 368)], [], [], [], [], [], [(26, 1512)], [], [], [], [], [], [], [], []]\n",
      "[-1, -1, 30, -1, -1, 3, -1, -1, 7, 5, 24, 19, -1, -1, 28, 13, 10, 21, 15, 8, 23, 22, 2, 25, -1, -1, -1, 17, 16, 11, 1, 0, 4, -1, 29, -1, 31, 9]\n",
      "[0, 1, 2, 3, 4, 5, 7, 8, 9, 10, 11, 13, 15, 16, 17, 19, 21, 22, 23, 24, 25, 28, 29, 30, 31]\n",
      "[6, 12, 14, 18, 20, 26, 27, 32]\n"
     ]
    }
   ],
   "source": [
    "print(eval['mIoU'])\n",
    "\n",
    "print(eval['gt_orphan_cg_lists'])\n",
    "\n",
    "print(eval['gt_cg_association'])\n",
    "\n",
    "cg_orphan_list = []\n",
    "\n",
    "# put all orphan indices in the cg_orphan_list list:\n",
    "for gt_idx, orphans in enumerate(eval['gt_orphan_cg_lists']):\n",
    "    if len(orphans) > 0:\n",
    "        cg_orphan_list.append([cg_idx for cg_idx, _ in orphans])\n",
    "    #else:\n",
    "    #    cg_orphan_list.append([])\n",
    "\n",
    "cg_orphan_list = [item for sublist in cg_orphan_list for item in sublist]\n",
    "\n",
    "segmented_cg_indices = [eval['gt_cg_association'][i] for i in segmented_gt_indices]\n",
    "\n",
    "segmented_cg_indices.sort()\n",
    "cg_orphan_list.sort()\n",
    "\n",
    "print(segmented_cg_indices)\n",
    "\n",
    "print(cg_orphan_list)"
   ]
  },
  {
   "cell_type": "markdown",
   "id": "bde3b0c0",
   "metadata": {},
   "source": [
    "\n",
    "[-1, -1, 30, -1, -1, 3, -1, -1, 7, 5, 24, 19, -1, -1, 28, 13, 10, 21, 15, 8, 23, 22, 2, 25, -1, -1, -1, 17, 16, 11, 1, 0, 4, -1, 29, -1, 31, 9]\n",
    "Indices with non-negative associations: [2, 5, 8, 9, 10, 11, 14, 15, 16, 17, 18, 19, 20, 21, 22, 23, 27, 28, 29, 30, 31, 32, 34, 36, 37]\n",
    "Indices with no associations: [0, 1, 3, 4, 6, 7, 12, 13, 24, 25, 26, 33, 35]"
   ]
  },
  {
   "cell_type": "code",
   "execution_count": null,
   "id": "016d41c1",
   "metadata": {},
   "outputs": [],
   "source": [
    "# evaluate\n",
    "miou, iou_list, gt_list, cg_list, intersection_list = eval_reference_object_ious(gt_objects, object_list, gt_indices, cg_indices)\n",
    "\n",
    "# visualize\n",
    "pcd = o3d.io.read_point_cloud(pcd_path)\n",
    "pcd.paint_uniform_color([0.7, 0.7, 0.7])  # gray\n",
    "\n",
    "\n",
    "print()\n",
    "\n",
    "for i in range(len(gt_list)):\n",
    "    gt_list[i].paint_uniform_color([0, 0, 1]) # blue\n",
    "    intersection_list[i].paint_uniform_color([0, 1, 0])  # green\n",
    "\n",
    "# Overwrite gt colors with intersection colors\n",
    "for i in range(len(gt_list)):\n",
    "    gt_list[i] = overwrite_gt_colors_with_intersection(gt_list[i], intersection_list[i], intersection_color=[0, 1, 0], threshold=1e-5)\n",
    "\n",
    "\n",
    "\n",
    "\n",
    "\n",
    "#o3d.visualization.draw_geometries([pcd] + gt_list + intersection_list)\n",
    "\n",
    "o3d.visualization.draw_geometries([pcd] + gt_list)"
   ]
  },
  {
   "cell_type": "code",
   "execution_count": 4,
   "id": "1bc1197a",
   "metadata": {},
   "outputs": [
    {
     "name": "stdout",
     "output_type": "stream",
     "text": [
      "Per-object mIoU: 0.44428958572567623\n",
      "Sum of orphan counts: 0\n",
      "Global IoU: 0.3975252473351333\n",
      "\u001b[1;33m[Open3D WARNING] The number of points is 0 when creating axis-aligned bounding box.\u001b[0;m\n"
     ]
    }
   ],
   "source": [
    "\n",
    "# eval notes\n",
    "\n",
    "# 1. IoU on gt_subset + orphan objects -> per object IoU\n",
    "# \n",
    "# 2. Gnerate union of GT objects, segmented cg and unsegmented cg objects\n",
    "# \n",
    "# 3. calculate global IoU for the union of GT objects and segmented cg objects\n",
    "#\n",
    "# 4. visualize GT, segmented cg, unsegmented cg objects \n",
    "\n",
    "# summa IoU\n",
    "\n",
    "# visualization: GT objects union... associated objects union -> IoU + visualization (recoloring....)\n",
    "\n",
    "\n",
    "\n",
    "# same for ref_gt_subset and ref_cg_subset\n",
    "\n",
    "\n",
    "def eval_and_visualize(gt_subset, cg_subset, distance_threshold=0.05):\n",
    "    \n",
    "    # 1\n",
    "    eval = eval_segmentation(gt_subset, cg_subset, distance_threshold)\n",
    "    per_object_miou = eval['mIoU']\n",
    "    sum_orphans = sum(eval['gt_orphan_counts'])\n",
    "\n",
    "    print(\"Per-object mIoU:\", per_object_miou)\n",
    "    print(\"Sum of orphan counts:\", sum_orphans)\n",
    "\n",
    "    # 2\n",
    "\n",
    "    intersection_pcd_list = []\n",
    "    object_intersection_sum = 0\n",
    "    object_union_sum = 0\n",
    "\n",
    "    for gt_i, cg_i in enumerate(eval['gt_cg_association']):\n",
    "        if cg_i != -1:\n",
    "            object_iou, object_intersection, object_union, intersection_pcd = compute_iou_with_intersection_cloud(gt_subset[gt_i], cg_subset[cg_i], distance_threshold)\n",
    "            intersection_pcd_list.append(intersection_pcd)\n",
    "            object_intersection_sum += object_intersection\n",
    "            object_union_sum += object_union\n",
    "\n",
    "    intersection_pcd_union = merge_point_clouds(intersection_pcd_list)\n",
    "\n",
    "    global_iou = object_intersection_sum / object_union_sum if object_union_sum > 0 else 0.0\n",
    "\n",
    "    gt_union = merge_point_clouds(gt_subset)\n",
    "\n",
    "#    segmented_gt_indices = [i for i, val in enumerate(eval['gt_cg_association']) if val != -1]\n",
    "#    segmented_cg_indices = [eval['gt_cg_association'][i] for i in segmented_gt_indices]\n",
    "#    segmented_cg_objects = [cg_subset[i] for i in segmented_cg_indices]\n",
    "#    segmented_cg_union = merge_point_clouds(segmented_cg_objects)\n",
    "\n",
    "    unsegmented_cg_objects = [cg_subset[i] for i in eval['cg_orphan_list']]\n",
    "\n",
    "    if len(unsegmented_cg_objects) == 0:\n",
    "        unsegmented_cg_union = o3d.geometry.PointCloud()\n",
    "    else:\n",
    "        unsegmented_cg_union = merge_point_clouds(unsegmented_cg_objects)\n",
    "\n",
    "    # 3\n",
    "    #global_iou, _, _, gt_intersection_pcd = compute_iou_with_intersection_cloud(gt_union, segmented_cg_union, distance_threshold)\n",
    "    _ , _, _, orphan_intersection_pcd = compute_iou_with_intersection_cloud(gt_union, unsegmented_cg_union, distance_threshold)\n",
    "\n",
    "    print(\"Global IoU:\", global_iou)\n",
    "\n",
    "    # 4\n",
    "    gt_union.paint_uniform_color([1, 0, 0])  # red\n",
    "    intersection_pcd_union.paint_uniform_color([0, 1, 0])  # green\n",
    "    orphan_intersection_pcd.paint_uniform_color([1, 1, 0])  # blue\n",
    "    o3d.visualization.draw_geometries([gt_union, intersection_pcd_union, orphan_intersection_pcd])\n",
    "\n",
    "\n",
    "#eval_and_visualize(gt_subset, cg_subset, distance_threshold=0.05)\n",
    "\n",
    "eval_and_visualize(ref_gt_subset, ref_cg_subset, distance_threshold=0.05)\n",
    "\n",
    "\n"
   ]
  },
  {
   "cell_type": "code",
   "execution_count": null,
   "id": "c5a0258e",
   "metadata": {},
   "outputs": [
    {
     "name": "stdout",
     "output_type": "stream",
     "text": [
      "Jupyter environment detected. Enabling Open3D WebVisualizer.\n",
      "[Open3D INFO] WebRTC GUI backend enabled.\n",
      "[Open3D INFO] WebRTCWindowSystem: HTTP handshake server disabled.\n",
      "Per-object mIoU: 0.33534186976569264\n",
      "Sum of orphan counts: 8\n",
      "Global IoU: 0.42980670227618817\n"
     ]
    }
   ],
   "source": [
    "\n",
    "import open3d as o3d\n",
    "import numpy as np\n",
    "\n",
    "from langspace2_utils import *\n",
    "from langspace2_core import *\n",
    "from langspace2_ransac_icp import *\n",
    "from langspace2_predator import *\n",
    "from langspace2_eval import *\n",
    "from langspace2_data import *\n",
    "\n",
    "\n",
    "gt_subset, cg_subset, ref_gt_subset, ref_cg_subset, ref_labels = load_replica_room0_data()\n",
    "\n",
    "eval_and_visualize(gt_subset, cg_subset, distance_threshold=0.05)\n"
   ]
  }
 ],
 "metadata": {
  "kernelspec": {
   "display_name": "conceptgraphs",
   "language": "python",
   "name": "python3"
  },
  "language_info": {
   "codemirror_mode": {
    "name": "ipython",
    "version": 3
   },
   "file_extension": ".py",
   "mimetype": "text/x-python",
   "name": "python",
   "nbconvert_exporter": "python",
   "pygments_lexer": "ipython3",
   "version": "3.10.16"
  }
 },
 "nbformat": 4,
 "nbformat_minor": 5
}
